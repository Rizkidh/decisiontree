{
  "metadata": {
    "colab": {
      "name": "DecisionTree IrisCSV.ipynb",
      "provenance": []
    },
    "kernelspec": {
      "name": "python",
      "display_name": "Python (Pyodide)",
      "language": "python"
    },
    "language_info": {
      "codemirror_mode": {
        "name": "python",
        "version": 3
      },
      "file_extension": ".py",
      "mimetype": "text/x-python",
      "name": "python",
      "nbconvert_exporter": "python",
      "pygments_lexer": "ipython3",
      "version": "3.8"
    }
  },
  "nbformat_minor": 4,
  "nbformat": 4,
  "cells": [
    {
      "cell_type": "code",
      "source": "#Import library numpy, pandas dan scikit-learn\nimport numpy as np\nimport pandas as pd\nfrom sklearn import tree",
      "metadata": {
        "id": "rw2trGGto-4O"
      },
      "execution_count": null,
      "outputs": []
    },
    {
      "cell_type": "code",
      "source": "#Membaca Dataset dari File ke Pandas dataFrame\nirisDataset = pd.read_csv('databaru3.csv', delimiter=';', header=0)",
      "metadata": {
        "id": "acy6kUs3phwJ",
        "trusted": true
      },
      "execution_count": 23,
      "outputs": []
    },
    {
      "cell_type": "code",
      "source": "#Mengubah kelas (kolom \"Species\") dari String ke Unique-Integer\nirisDataset[\"Species\"] = pd.factorize(irisDataset.Species)[0]",
      "metadata": {
        "id": "j2ZolV4uqjwO",
        "trusted": true
      },
      "execution_count": 24,
      "outputs": []
    },
    {
      "cell_type": "code",
      "source": "#Menghapus kolom \"Id\"\nirisDataset = irisDataset.drop(labels=\"Id\", axis=1)",
      "metadata": {
        "id": "yWrMU7yorIzO",
        "trusted": true
      },
      "execution_count": 25,
      "outputs": []
    },
    {
      "cell_type": "code",
      "source": "#Mengubah dataFrame ke array Numpy\nirisDataset = irisDataset.to_numpy()",
      "metadata": {
        "id": "dG-3UdM3rUxu",
        "trusted": true
      },
      "execution_count": 26,
      "outputs": []
    },
    {
      "cell_type": "code",
      "source": "#Membagi Dataset => 80 baris data untuk training dan 20 baris data untuk testing\ndataTraining = np.concatenate((irisDataset[0:40, :], irisDataset[50:90, :]), \n                              axis=0)\ndataTesting = np.concatenate((irisDataset[40:50, :], irisDataset[90:100, :]), \n                             axis=0)\n",
      "metadata": {
        "id": "yAN-UH4kriLH",
        "trusted": true
      },
      "execution_count": 27,
      "outputs": []
    },
    {
      "cell_type": "code",
      "source": "#Memecah Dataset ke Input dan Label\ninputTraining = dataTraining[:, 0:4]\ninputTesting = dataTesting[:, 0:4]\nlabelTraining = dataTraining[:, 4]\nlabelTesting = dataTesting[:, 4]",
      "metadata": {
        "id": "4H9gup4Gs0aX",
        "trusted": true
      },
      "execution_count": 28,
      "outputs": []
    },
    {
      "cell_type": "code",
      "source": "#Mendefinisikan Decision Tree Classifier\nmodel = tree.DecisionTreeClassifier()",
      "metadata": {
        "id": "kco04ijXtRvn",
        "trusted": true
      },
      "execution_count": 29,
      "outputs": []
    },
    {
      "cell_type": "code",
      "source": "#Mentraining Model\nmodel = model.fit(inputTraining, labelTraining)",
      "metadata": {
        "id": "92Ji3zzNtcJG",
        "trusted": true
      },
      "execution_count": 30,
      "outputs": []
    },
    {
      "cell_type": "code",
      "source": "#Memprediksi Input Data Testing\nhasilPrediksi = model.predict(inputTesting)\nprint(\"Label Sebenarnya : \", labelTesting)\nprint(\"Hasil Prediksi : \", hasilPrediksi)",
      "metadata": {
        "id": "xPE9lX1PtlKW",
        "trusted": true
      },
      "execution_count": 31,
      "outputs": [
        {
          "name": "stdout",
          "text": "Label Sebenarnya :  [0. 0. 0. 0. 0. 0. 0. 0. 0. 0. 1. 1. 1. 1. 1. 1. 1. 1. 1. 1.]\nHasil Prediksi :  [0. 0. 0. 0. 0. 0. 0. 0. 0. 0. 1. 1. 1. 1. 1. 1. 1. 1. 1. 1.]\n",
          "output_type": "stream"
        }
      ]
    },
    {
      "cell_type": "code",
      "source": "#Menghitung Akurasi\nprediksiBenar = (hasilPrediksi == labelTesting).sum()\nprediksiSalah = (hasilPrediksi != labelTesting).sum()\nprint(\"Prediksi Benar :\", prediksiBenar, \"data\")\nprint(\"Prediksi Salah :\", prediksiSalah, \"data\")\nprint(\"Akurasi :\", prediksiBenar/(prediksiBenar+prediksiSalah) * 100, \"%\")",
      "metadata": {
        "id": "6SMAZMn4uBD1",
        "trusted": true
      },
      "execution_count": 32,
      "outputs": [
        {
          "ename": "<class 'NameError'>",
          "evalue": "name 'hasilPrediksi' is not defined",
          "traceback": [
            "\u001b[0;31m---------------------------------------------------------------------------\u001b[0m",
            "\u001b[0;31mNameError\u001b[0m                                 Traceback (most recent call last)",
            "Cell \u001b[0;32mIn[1], line 2\u001b[0m\n\u001b[1;32m      1\u001b[0m \u001b[38;5;66;03m#Menghitung Akurasi\u001b[39;00m\n\u001b[0;32m----> 2\u001b[0m prediksiBenar \u001b[38;5;241m=\u001b[39m (\u001b[43mhasilPrediksi\u001b[49m \u001b[38;5;241m==\u001b[39m labelTesting)\u001b[38;5;241m.\u001b[39msum()\n\u001b[1;32m      3\u001b[0m prediksiSalah \u001b[38;5;241m=\u001b[39m (hasilPrediksi \u001b[38;5;241m!=\u001b[39m labelTesting)\u001b[38;5;241m.\u001b[39msum()\n\u001b[1;32m      4\u001b[0m \u001b[38;5;28mprint\u001b[39m(\u001b[38;5;124m\"\u001b[39m\u001b[38;5;124mPrediksi Benar :\u001b[39m\u001b[38;5;124m\"\u001b[39m, prediksiBenar, \u001b[38;5;124m\"\u001b[39m\u001b[38;5;124mdata\u001b[39m\u001b[38;5;124m\"\u001b[39m)\n",
            "\u001b[0;31mNameError\u001b[0m: name 'hasilPrediksi' is not defined"
          ],
          "output_type": "error"
        }
      ]
    }
  ]
}